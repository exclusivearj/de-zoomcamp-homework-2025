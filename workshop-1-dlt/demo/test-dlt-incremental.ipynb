{
 "cells": [
  {
   "cell_type": "code",
   "execution_count": 1,
   "metadata": {},
   "outputs": [
    {
     "name": "stderr",
     "output_type": "stream",
     "text": [
      "/Users/ajain17/Documents/Developer/de-zoomcamp-homework-2025/.venv/lib/python3.9/site-packages/urllib3/__init__.py:35: NotOpenSSLWarning: urllib3 v2 only supports OpenSSL 1.1.1+, currently the 'ssl' module is compiled with 'LibreSSL 2.8.3'. See: https://github.com/urllib3/urllib3/issues/3020\n",
      "  warnings.warn(\n"
     ]
    }
   ],
   "source": [
    "import dlt\n",
    "from dlt.sources.helpers.rest_client import RESTClient\n",
    "from dlt.sources.helpers.rest_client.paginators import PageNumberPaginator\n",
    "\n",
    "\n",
    "@dlt.resource(name=\"rides\", write_disposition=\"append\")\n",
    "def ny_taxi(\n",
    "    cursor_date=dlt.sources.incremental(\n",
    "        \"Trip_Dropoff_DateTime\",   # <--- field to track, our timestamp\n",
    "        initial_value=\"2009-06-15\",   # <--- start date June 15, 2009\n",
    "        )\n",
    "    ):\n",
    "    client = RESTClient(\n",
    "        base_url=\"https://us-central1-dlthub-analytics.cloudfunctions.net\",\n",
    "        paginator=PageNumberPaginator(\n",
    "            base_page=1,\n",
    "            total_path=None\n",
    "        )\n",
    "    )\n",
    "\n",
    "    for page in client.paginate(\"data_engineering_zoomcamp_api\"):\n",
    "        yield page"
   ]
  },
  {
   "cell_type": "code",
   "execution_count": 2,
   "metadata": {},
   "outputs": [
    {
     "name": "stdout",
     "output_type": "stream",
     "text": [
      "Run started at 2025-02-11 00:41:39.236404+00:00 and COMPLETED in 23.13 seconds with 4 steps.\n",
      "Step extract COMPLETED in 22.26 seconds.\n",
      "\n",
      "Load package 1739234499.270241 is EXTRACTED and NOT YET LOADED to the destination and contains no failed jobs\n",
      "\n",
      "Step normalize COMPLETED in 0.36 seconds.\n",
      "Normalized data for the following tables:\n",
      "- rides: 5325 row(s)\n",
      "- _dlt_pipeline_state: 1 row(s)\n",
      "\n",
      "Load package 1739234499.270241 is NORMALIZED and NOT YET LOADED to the destination and contains no failed jobs\n",
      "\n",
      "Step load COMPLETED in 0.48 seconds.\n",
      "Pipeline ny_taxi load step completed in 0.40 seconds\n",
      "1 load package(s) were loaded to destination duckdb and into dataset ny_taxi_data\n",
      "The duckdb destination used duckdb:////Users/ajain17/Documents/Developer/de-zoomcamp-homework-2025/ny_taxi.duckdb location to store data\n",
      "Load package 1739234499.270241 is LOADED and contains no failed jobs\n",
      "\n",
      "Step run COMPLETED in 23.13 seconds.\n",
      "Pipeline ny_taxi load step completed in 0.40 seconds\n",
      "1 load package(s) were loaded to destination duckdb and into dataset ny_taxi_data\n",
      "The duckdb destination used duckdb:////Users/ajain17/Documents/Developer/de-zoomcamp-homework-2025/ny_taxi.duckdb location to store data\n",
      "Load package 1739234499.270241 is LOADED and contains no failed jobs\n"
     ]
    }
   ],
   "source": [
    "# define new dlt pipeline\n",
    "pipeline = dlt.pipeline(pipeline_name=\"ny_taxi\", destination=\"duckdb\", dataset_name=\"ny_taxi_data\")\n",
    "\n",
    "# run the pipeline with the new resource\n",
    "load_info = pipeline.run(ny_taxi)\n",
    "print(pipeline.last_trace)"
   ]
  },
  {
   "cell_type": "code",
   "execution_count": 3,
   "metadata": {},
   "outputs": [
    {
     "name": "stdout",
     "output_type": "stream",
     "text": [
      "[(datetime.datetime(2009, 6, 15, 0, 6, tzinfo=<UTC>),)]\n"
     ]
    }
   ],
   "source": [
    "with pipeline.sql_client() as client:\n",
    "    res = client.execute_sql(\n",
    "            \"\"\"\n",
    "            SELECT\n",
    "            MIN(trip_dropoff_date_time)\n",
    "            FROM rides;\n",
    "            \"\"\"\n",
    "        )\n",
    "    print(res)"
   ]
  },
  {
   "cell_type": "code",
   "execution_count": 4,
   "metadata": {},
   "outputs": [
    {
     "name": "stdout",
     "output_type": "stream",
     "text": [
      "Run started at 2025-02-11 00:43:35.182007+00:00 and COMPLETED in 22.79 seconds with 4 steps.\n",
      "Step extract COMPLETED in 22.71 seconds.\n",
      "\n",
      "Load package 1739234615.244511 is EXTRACTED and NOT YET LOADED to the destination and contains no failed jobs\n",
      "\n",
      "Step normalize COMPLETED in 0.03 seconds.\n",
      "No data found to normalize\n",
      "\n",
      "Step load COMPLETED in 0.01 seconds.\n",
      "Pipeline ny_taxi load step completed in ---\n",
      "0 load package(s) were loaded to destination duckdb and into dataset None\n",
      "The duckdb destination used duckdb:////Users/ajain17/Documents/Developer/de-zoomcamp-homework-2025/ny_taxi.duckdb location to store data\n",
      "\n",
      "Step run COMPLETED in 22.79 seconds.\n",
      "Pipeline ny_taxi load step completed in ---\n",
      "0 load package(s) were loaded to destination duckdb and into dataset None\n",
      "The duckdb destination used duckdb:////Users/ajain17/Documents/Developer/de-zoomcamp-homework-2025/ny_taxi.duckdb location to store data\n"
     ]
    }
   ],
   "source": [
    "# Since we're already the oldest data, we can just run the pipeline again and NO new data will be laoded\n",
    "pipeline = dlt.pipeline(pipeline_name=\"ny_taxi\", destination=\"duckdb\", dataset_name=\"ny_taxi_data\")\n",
    "\n",
    "\n",
    "# run the pipeline with the new resource\n",
    "load_info = pipeline.run(ny_taxi)\n",
    "print(pipeline.last_trace)"
   ]
  }
 ],
 "metadata": {
  "kernelspec": {
   "display_name": ".venv",
   "language": "python",
   "name": "python3"
  },
  "language_info": {
   "codemirror_mode": {
    "name": "ipython",
    "version": 3
   },
   "file_extension": ".py",
   "mimetype": "text/x-python",
   "name": "python",
   "nbconvert_exporter": "python",
   "pygments_lexer": "ipython3",
   "version": "3.9.6"
  }
 },
 "nbformat": 4,
 "nbformat_minor": 2
}
