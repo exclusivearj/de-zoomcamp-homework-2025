{
 "cells": [
  {
   "cell_type": "code",
   "execution_count": null,
   "id": "3c065b77-589d-4d94-8a92-ee14bd17a91f",
   "metadata": {},
   "outputs": [],
   "source": [
    "import pandas as pd"
   ]
  },
  {
   "cell_type": "code",
   "execution_count": null,
   "id": "4fbe5468-da1d-4916-b7b2-466a8d6e6539",
   "metadata": {},
   "outputs": [],
   "source": [
    "!ls -ltr"
   ]
  }
 ],
 "metadata": {
  "kernelspec": {
   "display_name": "Python 3 (ipykernel)",
   "language": "python",
   "name": "python3"
  },
  "language_info": {
   "codemirror_mode": {
    "name": "ipython",
    "version": 3
   },
   "file_extension": ".py",
   "mimetype": "text/x-python",
   "name": "python",
   "nbconvert_exporter": "python",
   "pygments_lexer": "ipython3",
   "version": "3.12.8"
  }
 },
 "nbformat": 4,
 "nbformat_minor": 5
}
