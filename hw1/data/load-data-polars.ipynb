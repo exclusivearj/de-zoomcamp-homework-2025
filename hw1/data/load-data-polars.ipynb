{
 "cells": [
  {
   "cell_type": "code",
   "execution_count": 11,
   "metadata": {},
   "outputs": [],
   "source": [
    "# All imports go here\n",
    "import polars as pl"
   ]
  },
  {
   "cell_type": "code",
   "execution_count": 12,
   "metadata": {},
   "outputs": [],
   "source": [
    "endpoint = \"https://github.com/DataTalksClub/nyc-tlc-data/releases/download/yellow/yellow_tripdata_2019-01.csv.gz\""
   ]
  },
  {
   "cell_type": "code",
   "execution_count": 13,
   "metadata": {},
   "outputs": [],
   "source": [
    "def yellow_taxi_polars_schema() -> dict:\n",
    "  return {\n",
    "    \"VendorID\": pl.Int32,\n",
    "    \"tpep_pickup_datetime\": pl.Datetime,\n",
    "    \"tpep_dropoff_datetime\": pl.Datetime,\n",
    "    \"passenger_count\": pl.Int8,\n",
    "    \"trip_distance\": pl.Float64,\n",
    "    \"PULocationID\": pl.Int32,\n",
    "    \"DOLocationID\": pl.Int32,\n",
    "    \"RatecodeID\": pl.Int8,\n",
    "    \"store_and_fwd_flag\": pl.String,\n",
    "    \"payment_type\": pl.Int8,\n",
    "    \"fare_amount\": pl.Float64,\n",
    "    \"extra\": pl.Float64,\n",
    "    \"mta_tax\": pl.Float64,\n",
    "    \"improvement_surcharge\": pl.Float64,\n",
    "    \"tip_amount\": pl.Float64,\n",
    "    \"tolls_amount\": pl.Float64,\n",
    "    \"total_amount\": pl.Float64,\n",
    "    \"congestion_surcharge\": pl.Float64,\n",
    "  }"
   ]
  },
  {
   "cell_type": "code",
   "execution_count": 17,
   "metadata": {},
   "outputs": [
    {
     "name": "stderr",
     "output_type": "stream",
     "text": [
      "/var/folders/5d/s1g43qys4psf6zbcy2y3tbsh0000gp/T/ipykernel_8760/399295492.py:1: DeprecationWarning: The argument `dtypes` for `read_csv` is deprecated. It has been renamed to `schema_overrides`.\n",
      "  df = pl.read_csv(endpoint, dtypes=yellow_taxi_polars_schema(), n_rows=100)\n"
     ]
    }
   ],
   "source": [
    "df = pl.read_csv(endpoint, dtypes=yellow_taxi_polars_schema(), n_rows=100)"
   ]
  },
  {
   "cell_type": "code",
   "execution_count": 18,
   "metadata": {},
   "outputs": [
    {
     "data": {
      "text/html": [
       "<div><style>\n",
       ".dataframe > thead > tr,\n",
       ".dataframe > tbody > tr {\n",
       "  text-align: right;\n",
       "  white-space: pre-wrap;\n",
       "}\n",
       "</style>\n",
       "<small>shape: (100, 18)</small><table border=\"1\" class=\"dataframe\"><thead><tr><th>VendorID</th><th>tpep_pickup_datetime</th><th>tpep_dropoff_datetime</th><th>passenger_count</th><th>trip_distance</th><th>RatecodeID</th><th>store_and_fwd_flag</th><th>PULocationID</th><th>DOLocationID</th><th>payment_type</th><th>fare_amount</th><th>extra</th><th>mta_tax</th><th>tip_amount</th><th>tolls_amount</th><th>improvement_surcharge</th><th>total_amount</th><th>congestion_surcharge</th></tr><tr><td>i32</td><td>datetime[μs]</td><td>datetime[μs]</td><td>i8</td><td>f64</td><td>i8</td><td>str</td><td>i32</td><td>i32</td><td>i8</td><td>f64</td><td>f64</td><td>f64</td><td>f64</td><td>f64</td><td>f64</td><td>f64</td><td>f64</td></tr></thead><tbody><tr><td>1</td><td>2019-01-01 00:46:40</td><td>2019-01-01 00:53:20</td><td>1</td><td>1.5</td><td>1</td><td>&quot;N&quot;</td><td>151</td><td>239</td><td>1</td><td>7.0</td><td>0.5</td><td>0.5</td><td>1.65</td><td>0.0</td><td>0.3</td><td>9.95</td><td>null</td></tr><tr><td>1</td><td>2019-01-01 00:59:47</td><td>2019-01-01 01:18:59</td><td>1</td><td>2.6</td><td>1</td><td>&quot;N&quot;</td><td>239</td><td>246</td><td>1</td><td>14.0</td><td>0.5</td><td>0.5</td><td>1.0</td><td>0.0</td><td>0.3</td><td>16.3</td><td>null</td></tr><tr><td>2</td><td>2018-12-21 13:48:30</td><td>2018-12-21 13:52:40</td><td>3</td><td>0.0</td><td>1</td><td>&quot;N&quot;</td><td>236</td><td>236</td><td>1</td><td>4.5</td><td>0.5</td><td>0.5</td><td>0.0</td><td>0.0</td><td>0.3</td><td>5.8</td><td>null</td></tr><tr><td>2</td><td>2018-11-28 15:52:25</td><td>2018-11-28 15:55:45</td><td>5</td><td>0.0</td><td>1</td><td>&quot;N&quot;</td><td>193</td><td>193</td><td>2</td><td>3.5</td><td>0.5</td><td>0.5</td><td>0.0</td><td>0.0</td><td>0.3</td><td>7.55</td><td>null</td></tr><tr><td>2</td><td>2018-11-28 15:56:57</td><td>2018-11-28 15:58:33</td><td>5</td><td>0.0</td><td>2</td><td>&quot;N&quot;</td><td>193</td><td>193</td><td>2</td><td>52.0</td><td>0.0</td><td>0.5</td><td>0.0</td><td>0.0</td><td>0.3</td><td>55.55</td><td>null</td></tr><tr><td>&hellip;</td><td>&hellip;</td><td>&hellip;</td><td>&hellip;</td><td>&hellip;</td><td>&hellip;</td><td>&hellip;</td><td>&hellip;</td><td>&hellip;</td><td>&hellip;</td><td>&hellip;</td><td>&hellip;</td><td>&hellip;</td><td>&hellip;</td><td>&hellip;</td><td>&hellip;</td><td>&hellip;</td><td>&hellip;</td></tr><tr><td>2</td><td>2019-01-01 00:02:06</td><td>2019-01-01 00:10:19</td><td>2</td><td>2.57</td><td>1</td><td>&quot;N&quot;</td><td>45</td><td>97</td><td>1</td><td>9.5</td><td>0.5</td><td>0.5</td><td>2.16</td><td>0.0</td><td>0.3</td><td>12.96</td><td>null</td></tr><tr><td>2</td><td>2019-01-01 00:24:57</td><td>2019-01-01 00:35:42</td><td>2</td><td>2.44</td><td>1</td><td>&quot;N&quot;</td><td>144</td><td>256</td><td>2</td><td>10.5</td><td>0.5</td><td>0.5</td><td>0.0</td><td>0.0</td><td>0.3</td><td>11.8</td><td>null</td></tr><tr><td>2</td><td>2019-01-01 00:46:09</td><td>2019-01-01 01:06:46</td><td>1</td><td>4.18</td><td>1</td><td>&quot;N&quot;</td><td>79</td><td>263</td><td>1</td><td>16.0</td><td>0.5</td><td>0.5</td><td>3.46</td><td>0.0</td><td>0.3</td><td>20.76</td><td>null</td></tr><tr><td>1</td><td>2019-01-01 00:16:07</td><td>2019-01-01 00:19:41</td><td>1</td><td>1.0</td><td>1</td><td>&quot;N&quot;</td><td>140</td><td>233</td><td>1</td><td>5.0</td><td>0.5</td><td>0.5</td><td>1.0</td><td>0.0</td><td>0.3</td><td>7.3</td><td>null</td></tr><tr><td>1</td><td>2019-01-01 00:23:47</td><td>2019-01-01 00:39:41</td><td>1</td><td>3.9</td><td>1</td><td>&quot;N&quot;</td><td>229</td><td>238</td><td>1</td><td>14.5</td><td>0.5</td><td>0.5</td><td>4.7</td><td>0.0</td><td>0.3</td><td>20.5</td><td>null</td></tr></tbody></table></div>"
      ],
      "text/plain": [
       "shape: (100, 18)\n",
       "┌──────────┬───────────┬───────────┬───────────┬───┬───────────┬───────────┬───────────┬───────────┐\n",
       "│ VendorID ┆ tpep_pick ┆ tpep_drop ┆ passenger ┆ … ┆ tolls_amo ┆ improveme ┆ total_amo ┆ congestio │\n",
       "│ ---      ┆ up_dateti ┆ off_datet ┆ _count    ┆   ┆ unt       ┆ nt_surcha ┆ unt       ┆ n_surchar │\n",
       "│ i32      ┆ me        ┆ ime       ┆ ---       ┆   ┆ ---       ┆ rge       ┆ ---       ┆ ge        │\n",
       "│          ┆ ---       ┆ ---       ┆ i8        ┆   ┆ f64       ┆ ---       ┆ f64       ┆ ---       │\n",
       "│          ┆ datetime[ ┆ datetime[ ┆           ┆   ┆           ┆ f64       ┆           ┆ f64       │\n",
       "│          ┆ μs]       ┆ μs]       ┆           ┆   ┆           ┆           ┆           ┆           │\n",
       "╞══════════╪═══════════╪═══════════╪═══════════╪═══╪═══════════╪═══════════╪═══════════╪═══════════╡\n",
       "│ 1        ┆ 2019-01-0 ┆ 2019-01-0 ┆ 1         ┆ … ┆ 0.0       ┆ 0.3       ┆ 9.95      ┆ null      │\n",
       "│          ┆ 1         ┆ 1         ┆           ┆   ┆           ┆           ┆           ┆           │\n",
       "│          ┆ 00:46:40  ┆ 00:53:20  ┆           ┆   ┆           ┆           ┆           ┆           │\n",
       "│ 1        ┆ 2019-01-0 ┆ 2019-01-0 ┆ 1         ┆ … ┆ 0.0       ┆ 0.3       ┆ 16.3      ┆ null      │\n",
       "│          ┆ 1         ┆ 1         ┆           ┆   ┆           ┆           ┆           ┆           │\n",
       "│          ┆ 00:59:47  ┆ 01:18:59  ┆           ┆   ┆           ┆           ┆           ┆           │\n",
       "│ 2        ┆ 2018-12-2 ┆ 2018-12-2 ┆ 3         ┆ … ┆ 0.0       ┆ 0.3       ┆ 5.8       ┆ null      │\n",
       "│          ┆ 1         ┆ 1         ┆           ┆   ┆           ┆           ┆           ┆           │\n",
       "│          ┆ 13:48:30  ┆ 13:52:40  ┆           ┆   ┆           ┆           ┆           ┆           │\n",
       "│ 2        ┆ 2018-11-2 ┆ 2018-11-2 ┆ 5         ┆ … ┆ 0.0       ┆ 0.3       ┆ 7.55      ┆ null      │\n",
       "│          ┆ 8         ┆ 8         ┆           ┆   ┆           ┆           ┆           ┆           │\n",
       "│          ┆ 15:52:25  ┆ 15:55:45  ┆           ┆   ┆           ┆           ┆           ┆           │\n",
       "│ 2        ┆ 2018-11-2 ┆ 2018-11-2 ┆ 5         ┆ … ┆ 0.0       ┆ 0.3       ┆ 55.55     ┆ null      │\n",
       "│          ┆ 8         ┆ 8         ┆           ┆   ┆           ┆           ┆           ┆           │\n",
       "│          ┆ 15:56:57  ┆ 15:58:33  ┆           ┆   ┆           ┆           ┆           ┆           │\n",
       "│ …        ┆ …         ┆ …         ┆ …         ┆ … ┆ …         ┆ …         ┆ …         ┆ …         │\n",
       "│ 2        ┆ 2019-01-0 ┆ 2019-01-0 ┆ 2         ┆ … ┆ 0.0       ┆ 0.3       ┆ 12.96     ┆ null      │\n",
       "│          ┆ 1         ┆ 1         ┆           ┆   ┆           ┆           ┆           ┆           │\n",
       "│          ┆ 00:02:06  ┆ 00:10:19  ┆           ┆   ┆           ┆           ┆           ┆           │\n",
       "│ 2        ┆ 2019-01-0 ┆ 2019-01-0 ┆ 2         ┆ … ┆ 0.0       ┆ 0.3       ┆ 11.8      ┆ null      │\n",
       "│          ┆ 1         ┆ 1         ┆           ┆   ┆           ┆           ┆           ┆           │\n",
       "│          ┆ 00:24:57  ┆ 00:35:42  ┆           ┆   ┆           ┆           ┆           ┆           │\n",
       "│ 2        ┆ 2019-01-0 ┆ 2019-01-0 ┆ 1         ┆ … ┆ 0.0       ┆ 0.3       ┆ 20.76     ┆ null      │\n",
       "│          ┆ 1         ┆ 1         ┆           ┆   ┆           ┆           ┆           ┆           │\n",
       "│          ┆ 00:46:09  ┆ 01:06:46  ┆           ┆   ┆           ┆           ┆           ┆           │\n",
       "│ 1        ┆ 2019-01-0 ┆ 2019-01-0 ┆ 1         ┆ … ┆ 0.0       ┆ 0.3       ┆ 7.3       ┆ null      │\n",
       "│          ┆ 1         ┆ 1         ┆           ┆   ┆           ┆           ┆           ┆           │\n",
       "│          ┆ 00:16:07  ┆ 00:19:41  ┆           ┆   ┆           ┆           ┆           ┆           │\n",
       "│ 1        ┆ 2019-01-0 ┆ 2019-01-0 ┆ 1         ┆ … ┆ 0.0       ┆ 0.3       ┆ 20.5      ┆ null      │\n",
       "│          ┆ 1         ┆ 1         ┆           ┆   ┆           ┆           ┆           ┆           │\n",
       "│          ┆ 00:23:47  ┆ 00:39:41  ┆           ┆   ┆           ┆           ┆           ┆           │\n",
       "└──────────┴───────────┴───────────┴───────────┴───┴───────────┴───────────┴───────────┴───────────┘"
      ]
     },
     "execution_count": 18,
     "metadata": {},
     "output_type": "execute_result"
    }
   ],
   "source": [
    "df"
   ]
  },
  {
   "cell_type": "code",
   "execution_count": 16,
   "metadata": {},
   "outputs": [
    {
     "data": {
      "text/plain": [
       "'\\ndf.write_database(\\n  table_name=\"yellow_taxi_data\",\\n  connection=\"postgres://{user}:{password}@{host}:{post}/{db_name}\",\\n  engine=\"adbc\",\\n  if_table_exists=\"replace\",\\n)\\n'"
      ]
     },
     "execution_count": 16,
     "metadata": {},
     "output_type": "execute_result"
    }
   ],
   "source": [
    "df.write_database(\n",
    "  table_name=\"yellow_taxi_data\",\n",
    "  connection=\"postgres://{user}:{password}@{host}:{post}/{db_name}\",\n",
    "  engine=\"adbc\",\n",
    "  if_table_exists=\"replace\",\n",
    ")"
   ]
  }
 ],
 "metadata": {
  "kernelspec": {
   "display_name": ".venv",
   "language": "python",
   "name": "python3"
  },
  "language_info": {
   "codemirror_mode": {
    "name": "ipython",
    "version": 3
   },
   "file_extension": ".py",
   "mimetype": "text/x-python",
   "name": "python",
   "nbconvert_exporter": "python",
   "pygments_lexer": "ipython3",
   "version": "3.9.6"
  }
 },
 "nbformat": 4,
 "nbformat_minor": 2
}
